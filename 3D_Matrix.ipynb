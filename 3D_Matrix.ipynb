{
  "nbformat": 4,
  "nbformat_minor": 0,
  "metadata": {
    "colab": {
      "name": "3D Matrix.ipynb",
      "provenance": [],
      "authorship_tag": "ABX9TyNh7tC6nRbxPADTU0IokcMr",
      "include_colab_link": true
    },
    "kernelspec": {
      "name": "python3",
      "display_name": "Python 3"
    },
    "language_info": {
      "name": "python"
    }
  },
  "cells": [
    {
      "cell_type": "markdown",
      "metadata": {
        "id": "view-in-github",
        "colab_type": "text"
      },
      "source": [
        "<a href=\"https://colab.research.google.com/github/annanya-mathur/Development-Over-Tensorflow/blob/main/3D_Matrix.ipynb\" target=\"_parent\"><img src=\"https://colab.research.google.com/assets/colab-badge.svg\" alt=\"Open In Colab\"/></a>"
      ]
    },
    {
      "cell_type": "markdown",
      "metadata": {
        "id": "UceCo7MLpVjt"
      },
      "source": [
        "# **Graphs in Tensorflow**\n",
        ">**Any operation in tensorflow is performed over Graph. Graphs are used to evalute variables over operations to get a specific value.**\n",
        "![graph.png](data:image/png;base64,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)\n",
        "> **multiply: (a*b)**\n",
        "\n",
        "> **sum: (b+c)**\n",
        "\n",
        "> **subtract: (multiply — sum)**"
      ]
    },
    {
      "cell_type": "markdown",
      "metadata": {
        "id": "K0selVOAxKjy"
      },
      "source": [
        "# **Broadcasting Effect**"
      ]
    },
    {
      "cell_type": "code",
      "metadata": {
        "colab": {
          "base_uri": "https://localhost:8080/"
        },
        "id": "oCyEc85cpU0k",
        "outputId": "74d43c82-c5c5-482e-e471-309eb4723f9f"
      },
      "source": [
        "import tensorflow as tf\n",
        "x=tf.constant([24,56,34])\n",
        "y=tf.constant([50])\n",
        "z=tf.constant([50,50,50])\n",
        "print(tf.multiply(x,y))\n",
        "print(tf.multiply(x,z))"
      ],
      "execution_count": 1,
      "outputs": [
        {
          "output_type": "stream",
          "text": [
            "tf.Tensor([1200 2800 1700], shape=(3,), dtype=int32)\n",
            "tf.Tensor([1200 2800 1700], shape=(3,), dtype=int32)\n"
          ],
          "name": "stdout"
        }
      ]
    },
    {
      "cell_type": "markdown",
      "metadata": {
        "id": "YInn45UKxUON"
      },
      "source": [
        "> **Hence both the result  is same**"
      ]
    },
    {
      "cell_type": "markdown",
      "metadata": {
        "id": "E4hc7Pe8ygYW"
      },
      "source": [
        "# **Session**\n",
        "> **A session object encapsulates the environment in which Operations objects are executable and tensor objects are evalued . Its main propose is to evalute graph and output a value**"
      ]
    },
    {
      "cell_type": "code",
      "metadata": {
        "colab": {
          "base_uri": "https://localhost:8080/",
          "height": 861
        },
        "id": "RquVGWZxx-H9",
        "outputId": "ddb64e6f-3609-4b62-ebdd-0af52191ff14"
      },
      "source": [
        "!pip install tensorflow==1.14..0\n",
        "import tensorflow as tf"
      ],
      "execution_count": 2,
      "outputs": [
        {
          "output_type": "stream",
          "text": [
            "Collecting tensorflow==1.14..0\n",
            "\u001b[?25l  Downloading https://files.pythonhosted.org/packages/f4/28/96efba1a516cdacc2e2d6d081f699c001d414cc8ca3250e6d59ae657eb2b/tensorflow-1.14.0-cp37-cp37m-manylinux1_x86_64.whl (109.3MB)\n",
            "\u001b[K     |████████████████████████████████| 109.3MB 48kB/s \n",
            "\u001b[?25hCollecting keras-applications>=1.0.6\n",
            "\u001b[?25l  Downloading https://files.pythonhosted.org/packages/71/e3/19762fdfc62877ae9102edf6342d71b28fbfd9dea3d2f96a882ce099b03f/Keras_Applications-1.0.8-py3-none-any.whl (50kB)\n",
            "\u001b[K     |████████████████████████████████| 51kB 5.0MB/s \n",
            "\u001b[?25hRequirement already satisfied: wrapt>=1.11.1 in /usr/local/lib/python3.7/dist-packages (from tensorflow==1.14..0) (1.12.1)\n",
            "Requirement already satisfied: six>=1.10.0 in /usr/local/lib/python3.7/dist-packages (from tensorflow==1.14..0) (1.15.0)\n",
            "Requirement already satisfied: absl-py>=0.7.0 in /usr/local/lib/python3.7/dist-packages (from tensorflow==1.14..0) (0.12.0)\n",
            "Requirement already satisfied: gast>=0.2.0 in /usr/local/lib/python3.7/dist-packages (from tensorflow==1.14..0) (0.4.0)\n",
            "Requirement already satisfied: numpy<2.0,>=1.14.5 in /usr/local/lib/python3.7/dist-packages (from tensorflow==1.14..0) (1.19.5)\n",
            "Requirement already satisfied: protobuf>=3.6.1 in /usr/local/lib/python3.7/dist-packages (from tensorflow==1.14..0) (3.12.4)\n",
            "Requirement already satisfied: termcolor>=1.1.0 in /usr/local/lib/python3.7/dist-packages (from tensorflow==1.14..0) (1.1.0)\n",
            "Requirement already satisfied: wheel>=0.26 in /usr/local/lib/python3.7/dist-packages (from tensorflow==1.14..0) (0.36.2)\n",
            "Collecting tensorboard<1.15.0,>=1.14.0\n",
            "\u001b[?25l  Downloading https://files.pythonhosted.org/packages/91/2d/2ed263449a078cd9c8a9ba50ebd50123adf1f8cfbea1492f9084169b89d9/tensorboard-1.14.0-py3-none-any.whl (3.1MB)\n",
            "\u001b[K     |████████████████████████████████| 3.2MB 30.0MB/s \n",
            "\u001b[?25hCollecting tensorflow-estimator<1.15.0rc0,>=1.14.0rc0\n",
            "\u001b[?25l  Downloading https://files.pythonhosted.org/packages/3c/d5/21860a5b11caf0678fbc8319341b0ae21a07156911132e0e71bffed0510d/tensorflow_estimator-1.14.0-py2.py3-none-any.whl (488kB)\n",
            "\u001b[K     |████████████████████████████████| 491kB 36.5MB/s \n",
            "\u001b[?25hRequirement already satisfied: keras-preprocessing>=1.0.5 in /usr/local/lib/python3.7/dist-packages (from tensorflow==1.14..0) (1.1.2)\n",
            "Requirement already satisfied: google-pasta>=0.1.6 in /usr/local/lib/python3.7/dist-packages (from tensorflow==1.14..0) (0.2.0)\n",
            "Requirement already satisfied: grpcio>=1.8.6 in /usr/local/lib/python3.7/dist-packages (from tensorflow==1.14..0) (1.34.1)\n",
            "Requirement already satisfied: astor>=0.6.0 in /usr/local/lib/python3.7/dist-packages (from tensorflow==1.14..0) (0.8.1)\n",
            "Requirement already satisfied: h5py in /usr/local/lib/python3.7/dist-packages (from keras-applications>=1.0.6->tensorflow==1.14..0) (3.1.0)\n",
            "Requirement already satisfied: setuptools in /usr/local/lib/python3.7/dist-packages (from protobuf>=3.6.1->tensorflow==1.14..0) (57.0.0)\n",
            "Requirement already satisfied: markdown>=2.6.8 in /usr/local/lib/python3.7/dist-packages (from tensorboard<1.15.0,>=1.14.0->tensorflow==1.14..0) (3.3.4)\n",
            "Requirement already satisfied: werkzeug>=0.11.15 in /usr/local/lib/python3.7/dist-packages (from tensorboard<1.15.0,>=1.14.0->tensorflow==1.14..0) (1.0.1)\n",
            "Requirement already satisfied: cached-property; python_version < \"3.8\" in /usr/local/lib/python3.7/dist-packages (from h5py->keras-applications>=1.0.6->tensorflow==1.14..0) (1.5.2)\n",
            "Requirement already satisfied: importlib-metadata; python_version < \"3.8\" in /usr/local/lib/python3.7/dist-packages (from markdown>=2.6.8->tensorboard<1.15.0,>=1.14.0->tensorflow==1.14..0) (4.0.1)\n",
            "Requirement already satisfied: zipp>=0.5 in /usr/local/lib/python3.7/dist-packages (from importlib-metadata; python_version < \"3.8\"->markdown>=2.6.8->tensorboard<1.15.0,>=1.14.0->tensorflow==1.14..0) (3.4.1)\n",
            "Requirement already satisfied: typing-extensions>=3.6.4; python_version < \"3.8\" in /usr/local/lib/python3.7/dist-packages (from importlib-metadata; python_version < \"3.8\"->markdown>=2.6.8->tensorboard<1.15.0,>=1.14.0->tensorflow==1.14..0) (3.7.4.3)\n",
            "\u001b[31mERROR: kapre 0.3.5 has requirement tensorflow>=2.0.0, but you'll have tensorflow 1.14.0 which is incompatible.\u001b[0m\n",
            "Installing collected packages: keras-applications, tensorboard, tensorflow-estimator, tensorflow\n",
            "  Found existing installation: tensorboard 2.5.0\n",
            "    Uninstalling tensorboard-2.5.0:\n",
            "      Successfully uninstalled tensorboard-2.5.0\n",
            "  Found existing installation: tensorflow-estimator 2.5.0\n",
            "    Uninstalling tensorflow-estimator-2.5.0:\n",
            "      Successfully uninstalled tensorflow-estimator-2.5.0\n",
            "  Found existing installation: tensorflow 2.5.0\n",
            "    Uninstalling tensorflow-2.5.0:\n",
            "      Successfully uninstalled tensorflow-2.5.0\n",
            "Successfully installed keras-applications-1.0.8 tensorboard-1.14.0 tensorflow-1.14.0 tensorflow-estimator-1.14.0\n"
          ],
          "name": "stdout"
        },
        {
          "output_type": "display_data",
          "data": {
            "application/vnd.colab-display-data+json": {
              "pip_warning": {
                "packages": [
                  "tensorboard",
                  "tensorflow"
                ]
              }
            }
          },
          "metadata": {
            "tags": []
          }
        }
      ]
    },
    {
      "cell_type": "code",
      "metadata": {
        "colab": {
          "base_uri": "https://localhost:8080/"
        },
        "id": "MV1MFzsQ0ldA",
        "outputId": "2c257ddf-171b-476f-c812-7cede1457b7a"
      },
      "source": [
        "with tf.compat.v1.Session() as sess:\n",
        "  x = tf.constant([1,2,3], dtype=tf.float32, name=\"x\")\n",
        "  print(sess.run(x))\n",
        "  "
      ],
      "execution_count": 3,
      "outputs": [
        {
          "output_type": "stream",
          "text": [
            "[1. 2. 3.]\n"
          ],
          "name": "stdout"
        }
      ]
    },
    {
      "cell_type": "markdown",
      "metadata": {
        "id": "F8HK7KAKk7Uu"
      },
      "source": [
        "# **ASSERT**\n",
        "\n",
        "> **Python has built-in assert statement to use assertion condition in the program. assert statement has a condition or expression which is supposed to be always true. If the condition is false assert halts the program and gives an AssertionError.**"
      ]
    },
    {
      "cell_type": "code",
      "metadata": {
        "id": "vYK6Pz-OFID0",
        "colab": {
          "base_uri": "https://localhost:8080/"
        },
        "outputId": "5e1ab254-fa3a-458a-9af2-dd828cfd0f92"
      },
      "source": [
        "obj=tf.constant(89)\n",
        "tf.compat.v1.disable_eager_execution()\n",
        "assert obj.graph is tf.compat.v1.get_default_graph()\n",
        "obj"
      ],
      "execution_count": 5,
      "outputs": [
        {
          "output_type": "execute_result",
          "data": {
            "text/plain": [
              "<tf.Tensor 'Const:0' shape=() dtype=int32>"
            ]
          },
          "metadata": {
            "tags": []
          },
          "execution_count": 5
        }
      ]
    },
    {
      "cell_type": "code",
      "metadata": {
        "colab": {
          "base_uri": "https://localhost:8080/"
        },
        "id": "PxBfK1cvQmZk",
        "outputId": "32367971-b342-4d04-96e3-5640c925789b"
      },
      "source": [
        "g=tf.Graph()\n",
        "with g.as_default():\n",
        "  obj=tf.constant(89)\n",
        "  assert obj.graph is g\n",
        "  print(obj)"
      ],
      "execution_count": 6,
      "outputs": [
        {
          "output_type": "stream",
          "text": [
            "Tensor(\"Const:0\", shape=(), dtype=int32)\n"
          ],
          "name": "stdout"
        }
      ]
    },
    {
      "cell_type": "markdown",
      "metadata": {
        "id": "G7_YY8V_X4Kc"
      },
      "source": [
        "# **Adding two variables over Graph**"
      ]
    },
    {
      "cell_type": "code",
      "metadata": {
        "colab": {
          "base_uri": "https://localhost:8080/"
        },
        "id": "CIZmAuKfRPUq",
        "outputId": "62daa757-acf5-44ce-cc8a-8cffd0b428b8"
      },
      "source": [
        "a=90\n",
        "b=89\n",
        "c=tf.add(a,b,name='ADD')\n",
        "print(c)"
      ],
      "execution_count": 7,
      "outputs": [
        {
          "output_type": "stream",
          "text": [
            "Tensor(\"ADD:0\", shape=(), dtype=int32)\n"
          ],
          "name": "stdout"
        }
      ]
    },
    {
      "cell_type": "code",
      "metadata": {
        "colab": {
          "base_uri": "https://localhost:8080/"
        },
        "id": "2Pea638LXIpR",
        "outputId": "b2a56c77-a511-4d6b-dad4-24d1d5c87046"
      },
      "source": [
        "sess=tf.compat.v1.Session()\n",
        "print(sess.run(c))"
      ],
      "execution_count": 8,
      "outputs": [
        {
          "output_type": "stream",
          "text": [
            "179\n"
          ],
          "name": "stdout"
        }
      ]
    },
    {
      "cell_type": "markdown",
      "metadata": {
        "id": "q3E3SmFtafbr"
      },
      "source": [
        "# 3D Matrix Operations\n",
        "> **3d martix is a collection of 2d matrices with the order of (p,q,r)**\n",
        "![matrix.jpg](data:image/jpeg;base64,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)"
      ]
    },
    {
      "cell_type": "code",
      "metadata": {
        "colab": {
          "base_uri": "https://localhost:8080/"
        },
        "id": "2aAFcCH6XORM",
        "outputId": "9332ea24-b493-4cb9-d91b-0723779251d5"
      },
      "source": [
        "import numpy as np\n",
        "np.random.randint(0,10,size=(5,3,2))"
      ],
      "execution_count": 9,
      "outputs": [
        {
          "output_type": "execute_result",
          "data": {
            "text/plain": [
              "array([[[8, 2],\n",
              "        [4, 8],\n",
              "        [8, 4]],\n",
              "\n",
              "       [[5, 9],\n",
              "        [3, 3],\n",
              "        [7, 4]],\n",
              "\n",
              "       [[1, 5],\n",
              "        [9, 7],\n",
              "        [8, 1]],\n",
              "\n",
              "       [[4, 9],\n",
              "        [6, 9],\n",
              "        [2, 9]],\n",
              "\n",
              "       [[8, 9],\n",
              "        [5, 1],\n",
              "        [5, 7]]])"
            ]
          },
          "metadata": {
            "tags": []
          },
          "execution_count": 9
        }
      ]
    },
    {
      "cell_type": "markdown",
      "metadata": {
        "id": "xuNZhORjfQmL"
      },
      "source": [
        "**Matmul( ) function takes matrix of rank >=2 . Get_collection( ) function always return an array that has been added to it.**"
      ]
    },
    {
      "cell_type": "code",
      "metadata": {
        "colab": {
          "base_uri": "https://localhost:8080/"
        },
        "id": "laKM8P28c9vC",
        "outputId": "bef7ab21-672d-4466-a632-40ebedfabaf7"
      },
      "source": [
        "tf.compat.v1.reset_default_graph()\n",
        "m1=tf.compat.v1.get_variable('m1',shape=(5,3,2))\n",
        "m2=tf.compat.v1.get_variable('m2',shape=(5,2,4))\n",
        "m3=tf.matmul(m1,m2,name='m3')\n",
        "print(m3)\n",
        "assert m3.shape == (5,3,4)\n",
        "print(tf.compat.v1.add_to_collection('my_collection',m3))\n",
        "assert m3 is tf.compat.v1.get_collection('my_collection')[0]"
      ],
      "execution_count": 10,
      "outputs": [
        {
          "output_type": "stream",
          "text": [
            "Tensor(\"m3:0\", shape=(5, 3, 4), dtype=float32)\n",
            "None\n"
          ],
          "name": "stdout"
        }
      ]
    },
    {
      "cell_type": "code",
      "metadata": {
        "colab": {
          "base_uri": "https://localhost:8080/"
        },
        "id": "BWr34PsBeaBb",
        "outputId": "b3d57713-4c4f-43a7-d382-31abc77edf10"
      },
      "source": [
        "default_graph = tf.compat.v1.get_default_graph()\n",
        "assert m1.graph is default_graph\n",
        "assert m2.graph is default_graph\n",
        "assert m3.graph is default_graph\n",
        "assert m3 is default_graph.get_collection('my_collection')[0]\n",
        "print ('The Assertion Passed')"
      ],
      "execution_count": 13,
      "outputs": [
        {
          "output_type": "stream",
          "text": [
            "The Assertion Passed\n"
          ],
          "name": "stdout"
        }
      ]
    },
    {
      "cell_type": "code",
      "metadata": {
        "colab": {
          "base_uri": "https://localhost:8080/"
        },
        "id": "1S8fsxDPmWcC",
        "outputId": "40440329-9b80-4d4c-96c3-7768f3c91aa1"
      },
      "source": [
        "print(default_graph)\n",
        "\n",
        "  "
      ],
      "execution_count": 14,
      "outputs": [
        {
          "output_type": "stream",
          "text": [
            "<tensorflow.python.framework.ops.Graph object at 0x7f01cee7c250>\n"
          ],
          "name": "stdout"
        }
      ]
    },
    {
      "cell_type": "markdown",
      "metadata": {
        "id": "OtKFrvbnbD4U"
      },
      "source": [
        "# **Operations over default_graph**"
      ]
    },
    {
      "cell_type": "code",
      "metadata": {
        "id": "MVDugbENbDQj",
        "outputId": "9bc9c388-6413-440e-a241-c10fc555d491",
        "colab": {
          "base_uri": "https://localhost:8080/"
        }
      },
      "source": [
        "from pprint import pprint\n",
        "pprint(default_graph.get_operations())"
      ],
      "execution_count": 21,
      "outputs": [
        {
          "output_type": "stream",
          "text": [
            "[<tf.Operation 'm1/Initializer/random_uniform/shape' type=Const>,\n",
            " <tf.Operation 'm1/Initializer/random_uniform/min' type=Const>,\n",
            " <tf.Operation 'm1/Initializer/random_uniform/max' type=Const>,\n",
            " <tf.Operation 'm1/Initializer/random_uniform/RandomUniform' type=RandomUniform>,\n",
            " <tf.Operation 'm1/Initializer/random_uniform/sub' type=Sub>,\n",
            " <tf.Operation 'm1/Initializer/random_uniform/mul' type=Mul>,\n",
            " <tf.Operation 'm1/Initializer/random_uniform' type=Add>,\n",
            " <tf.Operation 'm1' type=VarHandleOp>,\n",
            " <tf.Operation 'm1/IsInitialized/VarIsInitializedOp' type=VarIsInitializedOp>,\n",
            " <tf.Operation 'm1/Assign' type=AssignVariableOp>,\n",
            " <tf.Operation 'm1/Read/ReadVariableOp' type=ReadVariableOp>,\n",
            " <tf.Operation 'm2/Initializer/random_uniform/shape' type=Const>,\n",
            " <tf.Operation 'm2/Initializer/random_uniform/min' type=Const>,\n",
            " <tf.Operation 'm2/Initializer/random_uniform/max' type=Const>,\n",
            " <tf.Operation 'm2/Initializer/random_uniform/RandomUniform' type=RandomUniform>,\n",
            " <tf.Operation 'm2/Initializer/random_uniform/sub' type=Sub>,\n",
            " <tf.Operation 'm2/Initializer/random_uniform/mul' type=Mul>,\n",
            " <tf.Operation 'm2/Initializer/random_uniform' type=Add>,\n",
            " <tf.Operation 'm2' type=VarHandleOp>,\n",
            " <tf.Operation 'm2/IsInitialized/VarIsInitializedOp' type=VarIsInitializedOp>,\n",
            " <tf.Operation 'm2/Assign' type=AssignVariableOp>,\n",
            " <tf.Operation 'm2/Read/ReadVariableOp' type=ReadVariableOp>,\n",
            " <tf.Operation 'm3/ReadVariableOp' type=ReadVariableOp>,\n",
            " <tf.Operation 'm3/ReadVariableOp_1' type=ReadVariableOp>,\n",
            " <tf.Operation 'm3' type=BatchMatMulV2>]\n"
          ],
          "name": "stdout"
        }
      ]
    },
    {
      "cell_type": "code",
      "metadata": {
        "id": "8QhXyZ0GbCBG",
        "outputId": "5b53570b-a60f-4179-caab-87a0d7686ea1",
        "colab": {
          "base_uri": "https://localhost:8080/"
        }
      },
      "source": [
        "pprint(default_graph.get_all_collection_keys())"
      ],
      "execution_count": 22,
      "outputs": [
        {
          "output_type": "stream",
          "text": [
            "['trainable_variables', 'variables', 'my_collection']\n"
          ],
          "name": "stdout"
        }
      ]
    },
    {
      "cell_type": "code",
      "metadata": {
        "id": "3_d-Un3UcnRQ",
        "outputId": "05020fbe-4950-4a74-b75f-a7dd71eef4f7",
        "colab": {
          "base_uri": "https://localhost:8080/"
        }
      },
      "source": [
        "pprint(default_graph.get_tensor_by_name('m1:0'))"
      ],
      "execution_count": 24,
      "outputs": [
        {
          "output_type": "stream",
          "text": [
            "<tf.Tensor 'm1:0' shape=() dtype=resource>\n"
          ],
          "name": "stdout"
        }
      ]
    },
    {
      "cell_type": "code",
      "metadata": {
        "id": "u9h99-5gcyHK",
        "outputId": "42977a2d-8bcb-4cd1-9da7-6d89dce64994",
        "colab": {
          "base_uri": "https://localhost:8080/"
        }
      },
      "source": [
        "pprint(default_graph.get_operation_by_name('m3'))"
      ],
      "execution_count": 25,
      "outputs": [
        {
          "output_type": "stream",
          "text": [
            "<tf.Operation 'm3' type=BatchMatMulV2>\n"
          ],
          "name": "stdout"
        }
      ]
    },
    {
      "cell_type": "markdown",
      "metadata": {
        "id": "qkLT1A5Des6A"
      },
      "source": [
        "# **Multiple Graphs**\n",
        "\n",
        "\n"
      ]
    },
    {
      "cell_type": "code",
      "metadata": {
        "id": "C_qhETsQe3zD",
        "outputId": "94781762-3679-45c7-e46d-cbf7b944ea76",
        "colab": {
          "base_uri": "https://localhost:8080/"
        }
      },
      "source": [
        "try:\n",
        "  m1=tf.compat.v1.get_variable('m1',shape=(5,3,2))\n",
        "except:\n",
        "  print('ValueError')  "
      ],
      "execution_count": 27,
      "outputs": [
        {
          "output_type": "stream",
          "text": [
            "ValueError\n"
          ],
          "name": "stdout"
        }
      ]
    },
    {
      "cell_type": "code",
      "metadata": {
        "id": "I7LRhFxRfLvg",
        "outputId": "69174721-dcf3-45d3-f7e8-c03f35ca315d",
        "colab": {
          "base_uri": "https://localhost:8080/"
        }
      },
      "source": [
        "g=tf.compat.v1.Graph()\n",
        "with g.as_default():\n",
        "  m1=tf.compat.v1.get_variable('m1',shape=(5,3,2))\n",
        "  assert m1.graph is g\n",
        "  assert m1.graph is not default_graph\n",
        "  print(\"Successful\")\n",
        "  print(m1)"
      ],
      "execution_count": 30,
      "outputs": [
        {
          "output_type": "stream",
          "text": [
            "Successful\n",
            "<tf.Variable 'm1:0' shape=(5, 3, 2) dtype=float32>\n"
          ],
          "name": "stdout"
        }
      ]
    },
    {
      "cell_type": "code",
      "metadata": {
        "id": "eaQMAS63g3v6",
        "outputId": "54137dee-ab37-43bb-d1a0-4ab8f4c796ef",
        "colab": {
          "base_uri": "https://localhost:8080/"
        }
      },
      "source": [
        "with tf.compat.v1.Session() as sess:\n",
        "  sess.run(tf.compat.v1.global_variables_initializer())\n",
        "  out=sess.run(m3)\n",
        "  pprint('Output is numpy array with shape {}:'.format(out.shape))\n",
        "  pprint(out)"
      ],
      "execution_count": 34,
      "outputs": [
        {
          "output_type": "stream",
          "text": [
            "'Output is numpy array with shape (5, 3, 4):'\n",
            "array([[[-0.07393464,  0.03520208,  0.08141472, -0.22370854],\n",
            "        [-0.04984038, -0.04939279,  0.05464474,  0.03878722],\n",
            "        [-0.09286003, -0.0528451 ,  0.10193884, -0.02932161]],\n",
            "\n",
            "       [[-0.04815206,  0.15374173,  0.00634812,  0.00704692],\n",
            "        [-0.03400528,  0.15951663, -0.00733029,  0.02900397],\n",
            "        [ 0.0177633 , -0.16456024,  0.02266664, -0.05346467]],\n",
            "\n",
            "       [[ 0.01999894,  0.17759924, -0.03075166,  0.03035677],\n",
            "        [-0.00617251, -0.11457556,  0.00063141,  0.04043617],\n",
            "        [-0.00379082, -0.03682251,  0.00536077, -0.00312194]],\n",
            "\n",
            "       [[ 0.04391786,  0.0380612 ,  0.1904141 ,  0.10506617],\n",
            "        [-0.02445849,  0.01369618, -0.06595599, -0.02283465],\n",
            "        [-0.04221573, -0.02956731, -0.1749704 , -0.09381742]],\n",
            "\n",
            "       [[-0.127259  , -0.10901938, -0.01655341, -0.03985224],\n",
            "        [ 0.0570959 ,  0.02746605,  0.02011862, -0.00661523],\n",
            "        [-0.08311391, -0.05797973, -0.01863564, -0.01092651]]],\n",
            "      dtype=float32)\n"
          ],
          "name": "stdout"
        }
      ]
    }
  ]
}