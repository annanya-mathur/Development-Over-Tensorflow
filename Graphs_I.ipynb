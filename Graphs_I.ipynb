{
  "nbformat": 4,
  "nbformat_minor": 0,
  "metadata": {
    "colab": {
      "name": "Graphs-I.ipynb",
      "provenance": [],
      "collapsed_sections": [],
      "authorship_tag": "ABX9TyPq6Vl+pDe4YRzhNhDdWiTH",
      "include_colab_link": true
    },
    "kernelspec": {
      "name": "python3",
      "display_name": "Python 3"
    },
    "language_info": {
      "name": "python"
    }
  },
  "cells": [
    {
      "cell_type": "markdown",
      "metadata": {
        "id": "view-in-github",
        "colab_type": "text"
      },
      "source": [
        "<a href=\"https://colab.research.google.com/github/annanya-mathur/Tensorflow/blob/main/Graphs_I.ipynb\" target=\"_parent\"><img src=\"https://colab.research.google.com/assets/colab-badge.svg\" alt=\"Open In Colab\"/></a>"
      ]
    },
    {
      "cell_type": "markdown",
      "metadata": {
        "id": "BLc_uXATiLKd"
      },
      "source": [
        "# **Here tensorflow ==1.14..0 version has been used**"
      ]
    },
    {
      "cell_type": "markdown",
      "metadata": {
        "id": "gCnIwcDYW5Kj"
      },
      "source": [
        "# **Tensors**\n",
        "\n",
        "> **They are the multidimensional array that has the ability to run on GPUs. They are the generalization of  vectors and matrix .\n",
        "For eg, vector is 1-D tensor**\n",
        "\n",
        "# **Initialization of tensor**"
      ]
    },
    {
      "cell_type": "code",
      "metadata": {
        "id": "4qcoeT0CXwcm",
        "colab": {
          "base_uri": "https://localhost:8080/",
          "height": 861
        },
        "outputId": "caf3e53a-df5a-468d-f2a7-495f3613cde0"
      },
      "source": [
        "!pip install tensorflow==1.14..0\n",
        "import tensorflow as tf"
      ],
      "execution_count": 64,
      "outputs": [
        {
          "output_type": "stream",
          "text": [
            "Collecting tensorflow==1.14..0\n",
            "\u001b[?25l  Downloading https://files.pythonhosted.org/packages/f4/28/96efba1a516cdacc2e2d6d081f699c001d414cc8ca3250e6d59ae657eb2b/tensorflow-1.14.0-cp37-cp37m-manylinux1_x86_64.whl (109.3MB)\n",
            "\u001b[K     |████████████████████████████████| 109.3MB 90kB/s \n",
            "\u001b[?25hRequirement already satisfied: astor>=0.6.0 in /usr/local/lib/python3.7/dist-packages (from tensorflow==1.14..0) (0.8.1)\n",
            "Requirement already satisfied: grpcio>=1.8.6 in /usr/local/lib/python3.7/dist-packages (from tensorflow==1.14..0) (1.34.1)\n",
            "Requirement already satisfied: protobuf>=3.6.1 in /usr/local/lib/python3.7/dist-packages (from tensorflow==1.14..0) (3.12.4)\n",
            "Requirement already satisfied: google-pasta>=0.1.6 in /usr/local/lib/python3.7/dist-packages (from tensorflow==1.14..0) (0.2.0)\n",
            "Requirement already satisfied: absl-py>=0.7.0 in /usr/local/lib/python3.7/dist-packages (from tensorflow==1.14..0) (0.12.0)\n",
            "Requirement already satisfied: six>=1.10.0 in /usr/local/lib/python3.7/dist-packages (from tensorflow==1.14..0) (1.15.0)\n",
            "Collecting tensorboard<1.15.0,>=1.14.0\n",
            "\u001b[?25l  Downloading https://files.pythonhosted.org/packages/91/2d/2ed263449a078cd9c8a9ba50ebd50123adf1f8cfbea1492f9084169b89d9/tensorboard-1.14.0-py3-none-any.whl (3.1MB)\n",
            "\u001b[K     |████████████████████████████████| 3.2MB 38.0MB/s \n",
            "\u001b[?25hRequirement already satisfied: keras-preprocessing>=1.0.5 in /usr/local/lib/python3.7/dist-packages (from tensorflow==1.14..0) (1.1.2)\n",
            "Requirement already satisfied: termcolor>=1.1.0 in /usr/local/lib/python3.7/dist-packages (from tensorflow==1.14..0) (1.1.0)\n",
            "Requirement already satisfied: wrapt>=1.11.1 in /usr/local/lib/python3.7/dist-packages (from tensorflow==1.14..0) (1.12.1)\n",
            "Collecting tensorflow-estimator<1.15.0rc0,>=1.14.0rc0\n",
            "\u001b[?25l  Downloading https://files.pythonhosted.org/packages/3c/d5/21860a5b11caf0678fbc8319341b0ae21a07156911132e0e71bffed0510d/tensorflow_estimator-1.14.0-py2.py3-none-any.whl (488kB)\n",
            "\u001b[K     |████████████████████████████████| 491kB 40.9MB/s \n",
            "\u001b[?25hRequirement already satisfied: gast>=0.2.0 in /usr/local/lib/python3.7/dist-packages (from tensorflow==1.14..0) (0.4.0)\n",
            "Requirement already satisfied: wheel>=0.26 in /usr/local/lib/python3.7/dist-packages (from tensorflow==1.14..0) (0.36.2)\n",
            "Requirement already satisfied: numpy<2.0,>=1.14.5 in /usr/local/lib/python3.7/dist-packages (from tensorflow==1.14..0) (1.19.5)\n",
            "Collecting keras-applications>=1.0.6\n",
            "\u001b[?25l  Downloading https://files.pythonhosted.org/packages/71/e3/19762fdfc62877ae9102edf6342d71b28fbfd9dea3d2f96a882ce099b03f/Keras_Applications-1.0.8-py3-none-any.whl (50kB)\n",
            "\u001b[K     |████████████████████████████████| 51kB 7.8MB/s \n",
            "\u001b[?25hRequirement already satisfied: setuptools in /usr/local/lib/python3.7/dist-packages (from protobuf>=3.6.1->tensorflow==1.14..0) (57.0.0)\n",
            "Requirement already satisfied: werkzeug>=0.11.15 in /usr/local/lib/python3.7/dist-packages (from tensorboard<1.15.0,>=1.14.0->tensorflow==1.14..0) (1.0.1)\n",
            "Requirement already satisfied: markdown>=2.6.8 in /usr/local/lib/python3.7/dist-packages (from tensorboard<1.15.0,>=1.14.0->tensorflow==1.14..0) (3.3.4)\n",
            "Requirement already satisfied: h5py in /usr/local/lib/python3.7/dist-packages (from keras-applications>=1.0.6->tensorflow==1.14..0) (3.1.0)\n",
            "Requirement already satisfied: importlib-metadata; python_version < \"3.8\" in /usr/local/lib/python3.7/dist-packages (from markdown>=2.6.8->tensorboard<1.15.0,>=1.14.0->tensorflow==1.14..0) (4.0.1)\n",
            "Requirement already satisfied: cached-property; python_version < \"3.8\" in /usr/local/lib/python3.7/dist-packages (from h5py->keras-applications>=1.0.6->tensorflow==1.14..0) (1.5.2)\n",
            "Requirement already satisfied: typing-extensions>=3.6.4; python_version < \"3.8\" in /usr/local/lib/python3.7/dist-packages (from importlib-metadata; python_version < \"3.8\"->markdown>=2.6.8->tensorboard<1.15.0,>=1.14.0->tensorflow==1.14..0) (3.7.4.3)\n",
            "Requirement already satisfied: zipp>=0.5 in /usr/local/lib/python3.7/dist-packages (from importlib-metadata; python_version < \"3.8\"->markdown>=2.6.8->tensorboard<1.15.0,>=1.14.0->tensorflow==1.14..0) (3.4.1)\n",
            "\u001b[31mERROR: kapre 0.3.5 has requirement tensorflow>=2.0.0, but you'll have tensorflow 1.14.0 which is incompatible.\u001b[0m\n",
            "Installing collected packages: tensorboard, tensorflow-estimator, keras-applications, tensorflow\n",
            "  Found existing installation: tensorboard 2.5.0\n",
            "    Uninstalling tensorboard-2.5.0:\n",
            "      Successfully uninstalled tensorboard-2.5.0\n",
            "  Found existing installation: tensorflow-estimator 2.5.0\n",
            "    Uninstalling tensorflow-estimator-2.5.0:\n",
            "      Successfully uninstalled tensorflow-estimator-2.5.0\n",
            "  Found existing installation: tensorflow 2.5.0\n",
            "    Uninstalling tensorflow-2.5.0:\n",
            "      Successfully uninstalled tensorflow-2.5.0\n",
            "Successfully installed keras-applications-1.0.8 tensorboard-1.14.0 tensorflow-1.14.0 tensorflow-estimator-1.14.0\n"
          ],
          "name": "stdout"
        },
        {
          "output_type": "display_data",
          "data": {
            "application/vnd.colab-display-data+json": {
              "pip_warning": {
                "packages": [
                  "tensorboard",
                  "tensorflow",
                  "tensorflow_estimator"
                ]
              }
            }
          },
          "metadata": {
            "tags": []
          }
        }
      ]
    },
    {
      "cell_type": "markdown",
      "metadata": {
        "id": "xrdbGIXtZONT"
      },
      "source": [
        "**Manual**"
      ]
    },
    {
      "cell_type": "code",
      "metadata": {
        "colab": {
          "base_uri": "https://localhost:8080/"
        },
        "id": "aAVzDNoDYC_2",
        "outputId": "b3cd6bc9-f9d6-4ff9-ad73-1cb8f5d89eb0"
      },
      "source": [
        "x=tf.constant(4)                                         \n",
        "print(x)\n",
        "y=tf.constant(4,shape=(1,1))\n",
        "print(y)\n",
        "z=tf.constant(4,shape=(1,1),dtype=tf.float32)\n",
        "print(z)\n",
        "a=tf.constant([[1,4,3],[50,67,89]])\n",
        "print(a)"
      ],
      "execution_count": 65,
      "outputs": [
        {
          "output_type": "stream",
          "text": [
            "Tensor(\"Const:0\", shape=(), dtype=int32)\n",
            "Tensor(\"Const_1:0\", shape=(1, 1), dtype=int32)\n",
            "Tensor(\"Const_2:0\", shape=(1, 1), dtype=float32)\n",
            "Tensor(\"Const_3:0\", shape=(2, 3), dtype=int32)\n"
          ],
          "name": "stdout"
        }
      ]
    },
    {
      "cell_type": "code",
      "metadata": {
        "colab": {
          "base_uri": "https://localhost:8080/"
        },
        "id": "oci4_ut9Y51I",
        "outputId": "ed7e6d47-c927-48ed-807e-637e739277f9"
      },
      "source": [
        "x=tf.ones((3,3))\n",
        "print(x)"
      ],
      "execution_count": 66,
      "outputs": [
        {
          "output_type": "stream",
          "text": [
            "Tensor(\"ones:0\", shape=(3, 3), dtype=float32)\n"
          ],
          "name": "stdout"
        }
      ]
    },
    {
      "cell_type": "markdown",
      "metadata": {
        "id": "Gm-04SP3aHJ3"
      },
      "source": [
        "**Identity Matrix**"
      ]
    },
    {
      "cell_type": "code",
      "metadata": {
        "colab": {
          "base_uri": "https://localhost:8080/"
        },
        "id": "6EouKwWSYgbB",
        "outputId": "8e4b1f26-194f-4018-9d3a-1092790c3394"
      },
      "source": [
        "x=tf.eye(5)\n",
        "print(x)"
      ],
      "execution_count": 67,
      "outputs": [
        {
          "output_type": "stream",
          "text": [
            "Tensor(\"eye/diag:0\", shape=(5, 5), dtype=float32)\n"
          ],
          "name": "stdout"
        }
      ]
    },
    {
      "cell_type": "code",
      "metadata": {
        "id": "nDoHpAh9aWMs",
        "colab": {
          "base_uri": "https://localhost:8080/"
        },
        "outputId": "66097681-97fb-43ea-98bc-c2590aa2e0aa"
      },
      "source": [
        "z=tf.convert_to_tensor([4,5,6])\n",
        "print(z)"
      ],
      "execution_count": 68,
      "outputs": [
        {
          "output_type": "stream",
          "text": [
            "Tensor(\"Const_4:0\", shape=(3,), dtype=int32)\n"
          ],
          "name": "stdout"
        }
      ]
    },
    {
      "cell_type": "markdown",
      "metadata": {
        "id": "ZtdO2Xbs2VH_"
      },
      "source": [
        "# **Variable Objects**"
      ]
    },
    {
      "cell_type": "code",
      "metadata": {
        "colab": {
          "base_uri": "https://localhost:8080/"
        },
        "id": "NU0bVGdD1DfT",
        "outputId": "f2de5228-0f31-452e-fe50-94b9f5606a56"
      },
      "source": [
        "print(tf.Variable(initial_value=(9,89)))\n",
        "print(tf.compat.v1.get_variable(name='y',initializer=(9,45,234)))"
      ],
      "execution_count": 75,
      "outputs": [
        {
          "output_type": "stream",
          "text": [
            "<tf.Variable 'Variable:0' shape=(2,) dtype=int32>\n",
            "<tf.Variable 'y:0' shape=(3,) dtype=int32>\n"
          ],
          "name": "stdout"
        }
      ]
    },
    {
      "cell_type": "markdown",
      "metadata": {
        "id": "4j8qa7f_5Ujn"
      },
      "source": [
        "# **Auto Reuse**\n",
        ">**It creates variables if they don't exists**\n",
        "\n"
      ]
    },
    {
      "cell_type": "code",
      "metadata": {
        "colab": {
          "base_uri": "https://localhost:8080/"
        },
        "id": "MHdBF0we3Boi",
        "outputId": "473ce94e-b9f1-4d52-a306-d4352634dca6"
      },
      "source": [
        "tf.compat.v1.reset_default_graph()\n",
        "with tf.compat.v1.variable_scope('scope',reuse=tf.compat.v1.AUTO_REUSE):\n",
        "  a=tf.compat.v1.get_variable(name='a',initializer=(9,35,234))\n",
        "  print(a)\n",
        "  b=tf.compat.v1.get_variable('b',initializer=a.initialized_value()+4)             # initialising value with another value\n",
        "  print('\\n')\n",
        "  print(b)\n",
        "  a=tf.convert_to_tensor(a)\n",
        "  b=tf.convert_to_tensor(b)\n"
      ],
      "execution_count": 73,
      "outputs": [
        {
          "output_type": "stream",
          "text": [
            "<tf.Variable 'scope/a:0' shape=(3,) dtype=int32>\n",
            "\n",
            "\n",
            "<tf.Variable 'scope/b:0' shape=(3,) dtype=int32>\n"
          ],
          "name": "stdout"
        }
      ]
    },
    {
      "cell_type": "markdown",
      "metadata": {
        "id": "u4Cs-kaWcOz8"
      },
      "source": [
        "# **In tensorflow all variables are considered as global by default . So , here initial values are assigned to global variables such as a ,b**"
      ]
    },
    {
      "cell_type": "code",
      "metadata": {
        "id": "B24rCIEZAy1R",
        "colab": {
          "base_uri": "https://localhost:8080/"
        },
        "outputId": "089abb82-c2a3-49fe-d61e-52cc00994e4b"
      },
      "source": [
        "\n",
        "from pprint import pprint\n",
        "with tf.compat.v1.Session() as tfse:\n",
        "  tfse.run(tf.compat.v1.global_variables_initializer())\n",
        "  pprint(tf.compat.v1.get_collection(tf.compat.v1.GraphKeys.GLOBAL_VARIABLES))\n",
        "  print('Variables has been initialised')\n",
        "  tf.compat.v1.disable_eager_execution()\n",
        "  i,j=tfse.run([a,b])\n",
        "  print('\\nEvaluated tensors output: {} {}'.format(a,b))"
      ],
      "execution_count": 74,
      "outputs": [
        {
          "output_type": "stream",
          "text": [
            "[<tf.Variable 'scope/a:0' shape=(3,) dtype=int32>,\n",
            " <tf.Variable 'scope/b:0' shape=(3,) dtype=int32>]\n",
            "Variables has been initialised\n",
            "\n",
            "Evaluated tensors output: Tensor(\"scope/ReadVariableOp:0\", shape=(3,), dtype=int32) Tensor(\"scope/ReadVariableOp_1:0\", shape=(3,), dtype=int32)\n"
          ],
          "name": "stdout"
        }
      ]
    },
    {
      "cell_type": "markdown",
      "metadata": {
        "id": "nbUTnlpDjjHr"
      },
      "source": [
        "**Function get_variable( ) makes sharing of variables easier than variable( ) as it has initializer as notation**"
      ]
    }
  ]
}